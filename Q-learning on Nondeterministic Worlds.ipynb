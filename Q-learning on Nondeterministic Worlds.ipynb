{
 "cells": [
  {
   "cell_type": "code",
   "execution_count": 1,
   "metadata": {},
   "outputs": [],
   "source": [
    "import gym\n",
    "import numpy as np\n",
    "import matplotlib.pyplot as plt\n",
    "#from gym.envs.registration import register"
   ]
  },
  {
   "cell_type": "code",
   "execution_count": 2,
   "metadata": {},
   "outputs": [],
   "source": [
    "#register(\n",
    "#    id='FrozenLake-v0',\n",
    "#    entry_point='gym.envs.toy_text:FrozenLakeEnv',\n",
    "#    kwargs={'map_name': '4x4',\n",
    "#            'is_slippery': True}\n",
    "#)\n",
    "env = gym.make('FrozenLake-v0')"
   ]
  },
  {
   "cell_type": "code",
   "execution_count": 3,
   "metadata": {},
   "outputs": [],
   "source": [
    "Q = np.zeros([env.observation_space.n,env.action_space.n])\n",
    "learning_rate = .5\n",
    "dis = .99\n",
    "num_episodes = 2000\n",
    "rList = []"
   ]
  },
  {
   "cell_type": "code",
   "execution_count": 4,
   "metadata": {},
   "outputs": [],
   "source": [
    "for i in range(num_episodes):\n",
    "    state = env.reset()\n",
    "    rAll = 0\n",
    "    done = False\n",
    "    \n",
    "    while not done:\n",
    "        action =  np.argmax(Q[state, :] + np.random.randn(1, env.action_space.n) / (i+1))\n",
    "        new_state, reward, done,_ = env.step(action)\n",
    "        Q[state,action] = (1- learning_rate) * Q[state,action] \\\n",
    "            + learning_rate*(reward + dis * np.max(Q[new_state, :]))\n",
    "        rAll += reward\n",
    "        state = new_state\n",
    "    rList.append(rAll)"
   ]
  },
  {
   "cell_type": "code",
   "execution_count": null,
   "metadata": {},
   "outputs": [
    {
     "name": "stdout",
     "output_type": "stream",
     "text": [
      "Score over time:0.478\n",
      "Final Q-Table Values\n",
      "[[  4.60103381e-02   5.20254330e-02   4.89250808e-01   4.64203279e-02]\n",
      " [  3.55709096e-03   1.24466065e-03   1.48960416e-02   4.82373371e-01]\n",
      " [  1.24095773e-02   3.86531783e-01   2.16170231e-02   5.36148348e-04]\n",
      " [  0.00000000e+00   0.00000000e+00   0.00000000e+00   4.03945991e-01]\n",
      " [  5.17522227e-01   1.85693310e-02   1.41321235e-02   4.51104817e-03]\n",
      " [  0.00000000e+00   0.00000000e+00   0.00000000e+00   0.00000000e+00]\n",
      " [  1.84147432e-01   1.46476741e-03   1.65631302e-03   1.99315459e-03]\n",
      " [  0.00000000e+00   0.00000000e+00   0.00000000e+00   0.00000000e+00]\n",
      " [  6.68593643e-03   1.79341018e-02   7.08106652e-03   6.69200028e-01]\n",
      " [  0.00000000e+00   7.06610304e-01   0.00000000e+00   1.06448929e-02]\n",
      " [  7.38350188e-01   0.00000000e+00   0.00000000e+00   0.00000000e+00]\n",
      " [  0.00000000e+00   0.00000000e+00   0.00000000e+00   0.00000000e+00]\n",
      " [  0.00000000e+00   0.00000000e+00   0.00000000e+00   0.00000000e+00]\n",
      " [  0.00000000e+00   0.00000000e+00   8.55286633e-01   0.00000000e+00]\n",
      " [  0.00000000e+00   9.31580454e-01   0.00000000e+00   0.00000000e+00]\n",
      " [  0.00000000e+00   0.00000000e+00   0.00000000e+00   0.00000000e+00]]\n"
     ]
    }
   ],
   "source": [
    "print(\"Score over time:\" + str(sum(rList)/num_episodes))\n",
    "print(\"Final Q-Table Values\")\n",
    "print(Q)\n",
    "plt.bar(range(len(rList)), rList, color=\"blue\")\n",
    "plt.show()"
   ]
  }
 ],
 "metadata": {
  "kernelspec": {
   "display_name": "Python 3",
   "language": "python",
   "name": "python3"
  },
  "language_info": {
   "codemirror_mode": {
    "name": "ipython",
    "version": 3
   },
   "file_extension": ".py",
   "mimetype": "text/x-python",
   "name": "python",
   "nbconvert_exporter": "python",
   "pygments_lexer": "ipython3",
   "version": "3.6.6"
  }
 },
 "nbformat": 4,
 "nbformat_minor": 2
}
